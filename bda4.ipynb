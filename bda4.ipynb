{
  "nbformat": 4,
  "nbformat_minor": 0,
  "metadata": {
    "colab": {
      "provenance": [],
      "authorship_tag": "ABX9TyODYJDpsdpS496HSCUz+13d",
      "include_colab_link": true
    },
    "kernelspec": {
      "name": "python3",
      "display_name": "Python 3"
    },
    "language_info": {
      "name": "python"
    }
  },
  "cells": [
    {
      "cell_type": "markdown",
      "metadata": {
        "id": "view-in-github",
        "colab_type": "text"
      },
      "source": [
        "<a href=\"https://colab.research.google.com/github/yuvrajdevrukhkar/BDA-Lab/blob/main/bda4.ipynb\" target=\"_parent\"><img src=\"https://colab.research.google.com/assets/colab-badge.svg\" alt=\"Open In Colab\"/></a>"
      ]
    },
    {
      "cell_type": "code",
      "execution_count": 4,
      "metadata": {
        "colab": {
          "base_uri": "https://localhost:8080/"
        },
        "id": "QQNnAZpLcy4h",
        "outputId": "d97f08a6-b95f-4a2c-d1f7-21b2a04d692f"
      },
      "outputs": [
        {
          "output_type": "stream",
          "name": "stdout",
          "text": [
            "The day with maximum snowfall in 2013 was 154 at station Station C with 19.99 inches.\n"
          ]
        }
      ],
      "source": [
        "import random\n",
        "\n",
        "# Function to generate random weather data for a station on a specific day\n",
        "def generate_weather_data(station, day):\n",
        "    snowfall = round(random.uniform(0, 20), 2)  # Random snowfall between 0 and 20 inches\n",
        "    return {'station': station, 'day': day, 'snowfall': snowfall}\n",
        "\n",
        "# Generate weather data for multiple stations and days in 2013\n",
        "weather_data = []\n",
        "stations = ['Station A', 'Station B', 'Station C']\n",
        "days_in_year = 365\n",
        "\n",
        "for day in range(1, days_in_year + 1):\n",
        "    for station in stations:\n",
        "        weather_data.append(generate_weather_data(station, day))\n",
        "\n",
        "# Find the day and station with maximum snowfall in 2013\n",
        "max_snowfall_day = None\n",
        "max_snowfall_station = None\n",
        "max_snowfall = 0\n",
        "\n",
        "for data in weather_data:\n",
        "    if data['snowfall'] > max_snowfall:\n",
        "        max_snowfall = data['snowfall']\n",
        "        max_snowfall_day = data['day']\n",
        "        max_snowfall_station = data['station']\n",
        "\n",
        "# Print the result\n",
        "print(f\"The day with maximum snowfall in 2013 was {max_snowfall_day} at station {max_snowfall_station} with {max_snowfall} inches.\")\n"
      ]
    },
    {
      "cell_type": "markdown",
      "source": [],
      "metadata": {
        "id": "M-vbWEK4c7IG"
      }
    }
  ]
}